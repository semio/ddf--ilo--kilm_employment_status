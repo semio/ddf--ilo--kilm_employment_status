{
 "cells": [
  {
   "cell_type": "code",
   "execution_count": 1,
   "metadata": {
    "collapsed": true
   },
   "outputs": [],
   "source": [
    "import pandas as pd\n",
    "import numpy as np\n",
    "import os\n",
    "\n",
    "from ddf_utils.str import to_concept_id\n",
    "from ddf_utils.index import create_index_file"
   ]
  },
  {
   "cell_type": "code",
   "execution_count": null,
   "metadata": {
    "collapsed": true
   },
   "outputs": [],
   "source": []
  },
  {
   "cell_type": "code",
   "execution_count": 2,
   "metadata": {
    "collapsed": true
   },
   "outputs": [],
   "source": [
    "source = 'source/kilm03.xlsx'"
   ]
  },
  {
   "cell_type": "code",
   "execution_count": 3,
   "metadata": {
    "collapsed": true
   },
   "outputs": [],
   "source": [
    "data = pd.read_excel(source, skiprows=2)"
   ]
  },
  {
   "cell_type": "code",
   "execution_count": 4,
   "metadata": {
    "collapsed": false
   },
   "outputs": [
    {
     "data": {
      "text/html": [
       "<div>\n",
       "<table border=\"1\" class=\"dataframe\">\n",
       "  <thead>\n",
       "    <tr style=\"text-align: right;\">\n",
       "      <th></th>\n",
       "      <th>Country (code)</th>\n",
       "      <th>Country</th>\n",
       "      <th>Region</th>\n",
       "      <th>Sub-region (broad)</th>\n",
       "      <th>Sub-region (detailed)</th>\n",
       "      <th>Income group (code)</th>\n",
       "      <th>Income group</th>\n",
       "      <th>B</th>\n",
       "      <th>Year</th>\n",
       "      <th>Sex (code)</th>\n",
       "      <th>...</th>\n",
       "      <th>Survey limitation</th>\n",
       "      <th>Type of source (code)</th>\n",
       "      <th>Type of source</th>\n",
       "      <th>Coverage (code)</th>\n",
       "      <th>Coverage</th>\n",
       "      <th>Reference period</th>\n",
       "      <th>Geographic limitation</th>\n",
       "      <th>Coverage limitation</th>\n",
       "      <th>Classification remark</th>\n",
       "      <th>Notes</th>\n",
       "    </tr>\n",
       "  </thead>\n",
       "  <tbody>\n",
       "    <tr>\n",
       "      <th>0</th>\n",
       "      <td>ALB</td>\n",
       "      <td>Albania</td>\n",
       "      <td>Europe and Central Asia</td>\n",
       "      <td>Northern, Southern and Western Europe</td>\n",
       "      <td>Southern Europe</td>\n",
       "      <td>III</td>\n",
       "      <td>Upper-middle income</td>\n",
       "      <td>NaN</td>\n",
       "      <td>2007</td>\n",
       "      <td>MF</td>\n",
       "      <td>...</td>\n",
       "      <td>NaN</td>\n",
       "      <td>LFS</td>\n",
       "      <td>Labour force survey</td>\n",
       "      <td>T</td>\n",
       "      <td>Total</td>\n",
       "      <td>NaN</td>\n",
       "      <td>NaN</td>\n",
       "      <td>NaN</td>\n",
       "      <td>NaN</td>\n",
       "      <td>NaN</td>\n",
       "    </tr>\n",
       "    <tr>\n",
       "      <th>1</th>\n",
       "      <td>ALB</td>\n",
       "      <td>Albania</td>\n",
       "      <td>Europe and Central Asia</td>\n",
       "      <td>Northern, Southern and Western Europe</td>\n",
       "      <td>Southern Europe</td>\n",
       "      <td>III</td>\n",
       "      <td>Upper-middle income</td>\n",
       "      <td>NaN</td>\n",
       "      <td>2007</td>\n",
       "      <td>M</td>\n",
       "      <td>...</td>\n",
       "      <td>NaN</td>\n",
       "      <td>LFS</td>\n",
       "      <td>Labour force survey</td>\n",
       "      <td>T</td>\n",
       "      <td>Total</td>\n",
       "      <td>NaN</td>\n",
       "      <td>NaN</td>\n",
       "      <td>NaN</td>\n",
       "      <td>NaN</td>\n",
       "      <td>NaN</td>\n",
       "    </tr>\n",
       "    <tr>\n",
       "      <th>2</th>\n",
       "      <td>ALB</td>\n",
       "      <td>Albania</td>\n",
       "      <td>Europe and Central Asia</td>\n",
       "      <td>Northern, Southern and Western Europe</td>\n",
       "      <td>Southern Europe</td>\n",
       "      <td>III</td>\n",
       "      <td>Upper-middle income</td>\n",
       "      <td>NaN</td>\n",
       "      <td>2007</td>\n",
       "      <td>F</td>\n",
       "      <td>...</td>\n",
       "      <td>NaN</td>\n",
       "      <td>LFS</td>\n",
       "      <td>Labour force survey</td>\n",
       "      <td>T</td>\n",
       "      <td>Total</td>\n",
       "      <td>NaN</td>\n",
       "      <td>NaN</td>\n",
       "      <td>NaN</td>\n",
       "      <td>NaN</td>\n",
       "      <td>NaN</td>\n",
       "    </tr>\n",
       "    <tr>\n",
       "      <th>3</th>\n",
       "      <td>ALB</td>\n",
       "      <td>Albania</td>\n",
       "      <td>Europe and Central Asia</td>\n",
       "      <td>Northern, Southern and Western Europe</td>\n",
       "      <td>Southern Europe</td>\n",
       "      <td>III</td>\n",
       "      <td>Upper-middle income</td>\n",
       "      <td>NaN</td>\n",
       "      <td>2008</td>\n",
       "      <td>MF</td>\n",
       "      <td>...</td>\n",
       "      <td>NaN</td>\n",
       "      <td>LFS</td>\n",
       "      <td>Labour force survey</td>\n",
       "      <td>T</td>\n",
       "      <td>Total</td>\n",
       "      <td>NaN</td>\n",
       "      <td>NaN</td>\n",
       "      <td>NaN</td>\n",
       "      <td>NaN</td>\n",
       "      <td>NaN</td>\n",
       "    </tr>\n",
       "    <tr>\n",
       "      <th>4</th>\n",
       "      <td>ALB</td>\n",
       "      <td>Albania</td>\n",
       "      <td>Europe and Central Asia</td>\n",
       "      <td>Northern, Southern and Western Europe</td>\n",
       "      <td>Southern Europe</td>\n",
       "      <td>III</td>\n",
       "      <td>Upper-middle income</td>\n",
       "      <td>NaN</td>\n",
       "      <td>2008</td>\n",
       "      <td>M</td>\n",
       "      <td>...</td>\n",
       "      <td>NaN</td>\n",
       "      <td>LFS</td>\n",
       "      <td>Labour force survey</td>\n",
       "      <td>T</td>\n",
       "      <td>Total</td>\n",
       "      <td>NaN</td>\n",
       "      <td>NaN</td>\n",
       "      <td>NaN</td>\n",
       "      <td>NaN</td>\n",
       "      <td>NaN</td>\n",
       "    </tr>\n",
       "  </tbody>\n",
       "</table>\n",
       "<p>5 rows × 41 columns</p>\n",
       "</div>"
      ],
      "text/plain": [
       "  Country (code)  Country                   Region  \\\n",
       "0            ALB  Albania  Europe and Central Asia   \n",
       "1            ALB  Albania  Europe and Central Asia   \n",
       "2            ALB  Albania  Europe and Central Asia   \n",
       "3            ALB  Albania  Europe and Central Asia   \n",
       "4            ALB  Albania  Europe and Central Asia   \n",
       "\n",
       "                      Sub-region (broad) Sub-region (detailed)  \\\n",
       "0  Northern, Southern and Western Europe       Southern Europe   \n",
       "1  Northern, Southern and Western Europe       Southern Europe   \n",
       "2  Northern, Southern and Western Europe       Southern Europe   \n",
       "3  Northern, Southern and Western Europe       Southern Europe   \n",
       "4  Northern, Southern and Western Europe       Southern Europe   \n",
       "\n",
       "  Income group (code)         Income group    B  Year Sex (code)  ...    \\\n",
       "0                 III  Upper-middle income  NaN  2007         MF  ...     \n",
       "1                 III  Upper-middle income  NaN  2007          M  ...     \n",
       "2                 III  Upper-middle income  NaN  2007          F  ...     \n",
       "3                 III  Upper-middle income  NaN  2008         MF  ...     \n",
       "4                 III  Upper-middle income  NaN  2008          M  ...     \n",
       "\n",
       "  Survey limitation  Type of source (code)       Type of source  \\\n",
       "0               NaN                    LFS  Labour force survey   \n",
       "1               NaN                    LFS  Labour force survey   \n",
       "2               NaN                    LFS  Labour force survey   \n",
       "3               NaN                    LFS  Labour force survey   \n",
       "4               NaN                    LFS  Labour force survey   \n",
       "\n",
       "   Coverage (code)  Coverage  Reference period  Geographic limitation  \\\n",
       "0                T     Total               NaN                    NaN   \n",
       "1                T     Total               NaN                    NaN   \n",
       "2                T     Total               NaN                    NaN   \n",
       "3                T     Total               NaN                    NaN   \n",
       "4                T     Total               NaN                    NaN   \n",
       "\n",
       "   Coverage limitation  Classification remark  Notes  \n",
       "0                  NaN                    NaN    NaN  \n",
       "1                  NaN                    NaN    NaN  \n",
       "2                  NaN                    NaN    NaN  \n",
       "3                  NaN                    NaN    NaN  \n",
       "4                  NaN                    NaN    NaN  \n",
       "\n",
       "[5 rows x 41 columns]"
      ]
     },
     "execution_count": 4,
     "metadata": {},
     "output_type": "execute_result"
    }
   ],
   "source": [
    "data.head()"
   ]
  },
  {
   "cell_type": "code",
   "execution_count": 5,
   "metadata": {
    "collapsed": false
   },
   "outputs": [
    {
     "data": {
      "text/plain": [
       "Index(['Country (code)', 'Country', 'Region', 'Sub-region (broad)',\n",
       "       'Sub-region (detailed)', 'Income group (code)', 'Income group', 'B',\n",
       "       'Year', 'Sex (code)', 'Sex', 'Total employment ('000)',\n",
       "       'Wage & salaried workers (employees) ('000)',\n",
       "       'Wage & salaried workers (employees) (%)',\n",
       "       'Total self-employed workers (a + b + c + d) ('000)',\n",
       "       'Total self-employed workers (a + b + c + d) (%)',\n",
       "       'Employers (a) ('000)', 'Employers (a) (%)',\n",
       "       'Own-account workers (b) ('000)', 'Own-account workers (b) (%)',\n",
       "       'Members of producers' cooperatives (c) ('000)',\n",
       "       'Members of producers' cooperatives (c) (%)',\n",
       "       'Contributing family workers (d) ('000)',\n",
       "       'Contributing family workers (d) (%)', 'Not classified ('000)',\n",
       "       'Not classified (%)', 'Persons in vulnerable employment (b + d) ('000)',\n",
       "       'Share of vulnerable employment in total employment (b + d) (%)',\n",
       "       'Repository (code)', 'Repository', 'Age', 'Survey limitation',\n",
       "       'Type of source (code)', 'Type of source', 'Coverage (code)',\n",
       "       'Coverage', 'Reference period', 'Geographic limitation',\n",
       "       'Coverage limitation', 'Classification remark', 'Notes'],\n",
       "      dtype='object')"
      ]
     },
     "execution_count": 5,
     "metadata": {},
     "output_type": "execute_result"
    }
   ],
   "source": [
    "data.columns"
   ]
  },
  {
   "cell_type": "code",
   "execution_count": null,
   "metadata": {
    "collapsed": true
   },
   "outputs": [],
   "source": []
  },
  {
   "cell_type": "code",
   "execution_count": null,
   "metadata": {
    "collapsed": true
   },
   "outputs": [],
   "source": []
  },
  {
   "cell_type": "code",
   "execution_count": null,
   "metadata": {
    "collapsed": true
   },
   "outputs": [],
   "source": []
  },
  {
   "cell_type": "code",
   "execution_count": 6,
   "metadata": {
    "collapsed": true
   },
   "outputs": [],
   "source": [
    "# country"
   ]
  },
  {
   "cell_type": "code",
   "execution_count": 7,
   "metadata": {
    "collapsed": true
   },
   "outputs": [],
   "source": [
    "country = data[['Country (code)', 'Country']].drop_duplicates().copy()\n",
    "country.columns = ['country', 'name']\n",
    "country['country'] = country['country'].map(to_concept_id)"
   ]
  },
  {
   "cell_type": "code",
   "execution_count": 9,
   "metadata": {
    "collapsed": false
   },
   "outputs": [],
   "source": [
    "country.to_csv('../ddf--entities--country.csv', index=False)"
   ]
  },
  {
   "cell_type": "code",
   "execution_count": null,
   "metadata": {
    "collapsed": true
   },
   "outputs": [],
   "source": []
  },
  {
   "cell_type": "code",
   "execution_count": null,
   "metadata": {
    "collapsed": true
   },
   "outputs": [],
   "source": [
    "# sex"
   ]
  },
  {
   "cell_type": "code",
   "execution_count": 10,
   "metadata": {
    "collapsed": true
   },
   "outputs": [],
   "source": [
    "sex = data[['Sex (code)', 'Sex']].drop_duplicates().copy()\n",
    "sex.columns = ['sex', 'name']\n",
    "\n",
    "sex['sex'] = sex['sex'].map(to_concept_id)\n",
    "\n",
    "sex.to_csv('../ddf--entities--sex.csv', index=False)"
   ]
  },
  {
   "cell_type": "code",
   "execution_count": null,
   "metadata": {
    "collapsed": true
   },
   "outputs": [],
   "source": []
  },
  {
   "cell_type": "code",
   "execution_count": null,
   "metadata": {
    "collapsed": true
   },
   "outputs": [],
   "source": []
  },
  {
   "cell_type": "code",
   "execution_count": 12,
   "metadata": {
    "collapsed": true
   },
   "outputs": [],
   "source": [
    "# concepts"
   ]
  },
  {
   "cell_type": "code",
   "execution_count": 13,
   "metadata": {
    "collapsed": true
   },
   "outputs": [],
   "source": [
    "discs = ['Name', 'Year', 'Country', 'Sex']\n",
    "\n",
    "conc = data.columns[12:28]"
   ]
  },
  {
   "cell_type": "code",
   "execution_count": 14,
   "metadata": {
    "collapsed": false
   },
   "outputs": [
    {
     "data": {
      "text/plain": [
       "Index(['Wage & salaried workers (employees) ('000)',\n",
       "       'Wage & salaried workers (employees) (%)',\n",
       "       'Total self-employed workers (a + b + c + d) ('000)',\n",
       "       'Total self-employed workers (a + b + c + d) (%)',\n",
       "       'Employers (a) ('000)', 'Employers (a) (%)',\n",
       "       'Own-account workers (b) ('000)', 'Own-account workers (b) (%)',\n",
       "       'Members of producers' cooperatives (c) ('000)',\n",
       "       'Members of producers' cooperatives (c) (%)',\n",
       "       'Contributing family workers (d) ('000)',\n",
       "       'Contributing family workers (d) (%)', 'Not classified ('000)',\n",
       "       'Not classified (%)', 'Persons in vulnerable employment (b + d) ('000)',\n",
       "       'Share of vulnerable employment in total employment (b + d) (%)'],\n",
       "      dtype='object')"
      ]
     },
     "execution_count": 14,
     "metadata": {},
     "output_type": "execute_result"
    }
   ],
   "source": [
    "conc"
   ]
  },
  {
   "cell_type": "code",
   "execution_count": null,
   "metadata": {
    "collapsed": true
   },
   "outputs": [],
   "source": []
  },
  {
   "cell_type": "code",
   "execution_count": null,
   "metadata": {
    "collapsed": true
   },
   "outputs": [],
   "source": []
  },
  {
   "cell_type": "code",
   "execution_count": 15,
   "metadata": {
    "collapsed": true
   },
   "outputs": [],
   "source": [
    "cdf = pd.DataFrame([], columns=['concept', 'name', 'concept_type'])\n",
    "\n",
    "cdf['name'] = [*discs, *conc]\n",
    "\n",
    "cdf['concept'] = cdf['name'].map(to_concept_id)"
   ]
  },
  {
   "cell_type": "code",
   "execution_count": null,
   "metadata": {
    "collapsed": true
   },
   "outputs": [],
   "source": []
  },
  {
   "cell_type": "code",
   "execution_count": 16,
   "metadata": {
    "collapsed": true
   },
   "outputs": [],
   "source": [
    "cdf.loc[4:, 'concept_type'] = 'measure'\n",
    "cdf.loc[0, 'concept_type'] = 'string'\n",
    "cdf.loc[1, 'concept_type'] = 'time'\n",
    "cdf.loc[2:3, 'concept_type'] = 'entity_domain'"
   ]
  },
  {
   "cell_type": "code",
   "execution_count": 17,
   "metadata": {
    "collapsed": false
   },
   "outputs": [
    {
     "data": {
      "text/html": [
       "<div>\n",
       "<table border=\"1\" class=\"dataframe\">\n",
       "  <thead>\n",
       "    <tr style=\"text-align: right;\">\n",
       "      <th></th>\n",
       "      <th>concept</th>\n",
       "      <th>name</th>\n",
       "      <th>concept_type</th>\n",
       "    </tr>\n",
       "  </thead>\n",
       "  <tbody>\n",
       "    <tr>\n",
       "      <th>0</th>\n",
       "      <td>name</td>\n",
       "      <td>Name</td>\n",
       "      <td>string</td>\n",
       "    </tr>\n",
       "    <tr>\n",
       "      <th>1</th>\n",
       "      <td>year</td>\n",
       "      <td>Year</td>\n",
       "      <td>time</td>\n",
       "    </tr>\n",
       "    <tr>\n",
       "      <th>2</th>\n",
       "      <td>country</td>\n",
       "      <td>Country</td>\n",
       "      <td>entity_domain</td>\n",
       "    </tr>\n",
       "    <tr>\n",
       "      <th>3</th>\n",
       "      <td>sex</td>\n",
       "      <td>Sex</td>\n",
       "      <td>entity_domain</td>\n",
       "    </tr>\n",
       "    <tr>\n",
       "      <th>4</th>\n",
       "      <td>wage_salaried_workers_employees_000</td>\n",
       "      <td>Wage &amp; salaried workers (employees) ('000)</td>\n",
       "      <td>measure</td>\n",
       "    </tr>\n",
       "    <tr>\n",
       "      <th>5</th>\n",
       "      <td>wage_salaried_workers_employees</td>\n",
       "      <td>Wage &amp; salaried workers (employees) (%)</td>\n",
       "      <td>measure</td>\n",
       "    </tr>\n",
       "    <tr>\n",
       "      <th>6</th>\n",
       "      <td>total_self_employed_workers_a_b_c_d_000</td>\n",
       "      <td>Total self-employed workers (a + b + c + d) ('...</td>\n",
       "      <td>measure</td>\n",
       "    </tr>\n",
       "    <tr>\n",
       "      <th>7</th>\n",
       "      <td>total_self_employed_workers_a_b_c_d</td>\n",
       "      <td>Total self-employed workers (a + b + c + d) (%)</td>\n",
       "      <td>measure</td>\n",
       "    </tr>\n",
       "    <tr>\n",
       "      <th>8</th>\n",
       "      <td>employers_a_000</td>\n",
       "      <td>Employers (a) ('000)</td>\n",
       "      <td>measure</td>\n",
       "    </tr>\n",
       "    <tr>\n",
       "      <th>9</th>\n",
       "      <td>employers_a</td>\n",
       "      <td>Employers (a) (%)</td>\n",
       "      <td>measure</td>\n",
       "    </tr>\n",
       "    <tr>\n",
       "      <th>10</th>\n",
       "      <td>own_account_workers_b_000</td>\n",
       "      <td>Own-account workers (b) ('000)</td>\n",
       "      <td>measure</td>\n",
       "    </tr>\n",
       "    <tr>\n",
       "      <th>11</th>\n",
       "      <td>own_account_workers_b</td>\n",
       "      <td>Own-account workers (b) (%)</td>\n",
       "      <td>measure</td>\n",
       "    </tr>\n",
       "    <tr>\n",
       "      <th>12</th>\n",
       "      <td>members_of_producers_cooperatives_c_000</td>\n",
       "      <td>Members of producers' cooperatives (c) ('000)</td>\n",
       "      <td>measure</td>\n",
       "    </tr>\n",
       "    <tr>\n",
       "      <th>13</th>\n",
       "      <td>members_of_producers_cooperatives_c</td>\n",
       "      <td>Members of producers' cooperatives (c) (%)</td>\n",
       "      <td>measure</td>\n",
       "    </tr>\n",
       "    <tr>\n",
       "      <th>14</th>\n",
       "      <td>contributing_family_workers_d_000</td>\n",
       "      <td>Contributing family workers (d) ('000)</td>\n",
       "      <td>measure</td>\n",
       "    </tr>\n",
       "    <tr>\n",
       "      <th>15</th>\n",
       "      <td>contributing_family_workers_d</td>\n",
       "      <td>Contributing family workers (d) (%)</td>\n",
       "      <td>measure</td>\n",
       "    </tr>\n",
       "    <tr>\n",
       "      <th>16</th>\n",
       "      <td>not_classified_000</td>\n",
       "      <td>Not classified ('000)</td>\n",
       "      <td>measure</td>\n",
       "    </tr>\n",
       "    <tr>\n",
       "      <th>17</th>\n",
       "      <td>not_classified</td>\n",
       "      <td>Not classified (%)</td>\n",
       "      <td>measure</td>\n",
       "    </tr>\n",
       "    <tr>\n",
       "      <th>18</th>\n",
       "      <td>persons_in_vulnerable_employment_b_d_000</td>\n",
       "      <td>Persons in vulnerable employment (b + d) ('000)</td>\n",
       "      <td>measure</td>\n",
       "    </tr>\n",
       "    <tr>\n",
       "      <th>19</th>\n",
       "      <td>share_of_vulnerable_employment_in_total_employ...</td>\n",
       "      <td>Share of vulnerable employment in total employ...</td>\n",
       "      <td>measure</td>\n",
       "    </tr>\n",
       "  </tbody>\n",
       "</table>\n",
       "</div>"
      ],
      "text/plain": [
       "                                              concept  \\\n",
       "0                                                name   \n",
       "1                                                year   \n",
       "2                                             country   \n",
       "3                                                 sex   \n",
       "4                 wage_salaried_workers_employees_000   \n",
       "5                     wage_salaried_workers_employees   \n",
       "6             total_self_employed_workers_a_b_c_d_000   \n",
       "7                 total_self_employed_workers_a_b_c_d   \n",
       "8                                     employers_a_000   \n",
       "9                                         employers_a   \n",
       "10                          own_account_workers_b_000   \n",
       "11                              own_account_workers_b   \n",
       "12            members_of_producers_cooperatives_c_000   \n",
       "13                members_of_producers_cooperatives_c   \n",
       "14                  contributing_family_workers_d_000   \n",
       "15                      contributing_family_workers_d   \n",
       "16                                 not_classified_000   \n",
       "17                                     not_classified   \n",
       "18           persons_in_vulnerable_employment_b_d_000   \n",
       "19  share_of_vulnerable_employment_in_total_employ...   \n",
       "\n",
       "                                                 name   concept_type  \n",
       "0                                                Name         string  \n",
       "1                                                Year           time  \n",
       "2                                             Country  entity_domain  \n",
       "3                                                 Sex  entity_domain  \n",
       "4          Wage & salaried workers (employees) ('000)        measure  \n",
       "5             Wage & salaried workers (employees) (%)        measure  \n",
       "6   Total self-employed workers (a + b + c + d) ('...        measure  \n",
       "7     Total self-employed workers (a + b + c + d) (%)        measure  \n",
       "8                                Employers (a) ('000)        measure  \n",
       "9                                   Employers (a) (%)        measure  \n",
       "10                     Own-account workers (b) ('000)        measure  \n",
       "11                        Own-account workers (b) (%)        measure  \n",
       "12      Members of producers' cooperatives (c) ('000)        measure  \n",
       "13         Members of producers' cooperatives (c) (%)        measure  \n",
       "14             Contributing family workers (d) ('000)        measure  \n",
       "15                Contributing family workers (d) (%)        measure  \n",
       "16                              Not classified ('000)        measure  \n",
       "17                                 Not classified (%)        measure  \n",
       "18    Persons in vulnerable employment (b + d) ('000)        measure  \n",
       "19  Share of vulnerable employment in total employ...        measure  "
      ]
     },
     "execution_count": 17,
     "metadata": {},
     "output_type": "execute_result"
    }
   ],
   "source": [
    "cdf"
   ]
  },
  {
   "cell_type": "code",
   "execution_count": 18,
   "metadata": {
    "collapsed": true
   },
   "outputs": [],
   "source": [
    "cdf.to_csv('../ddf--concepts.csv', index=False)"
   ]
  },
  {
   "cell_type": "code",
   "execution_count": null,
   "metadata": {
    "collapsed": true
   },
   "outputs": [],
   "source": []
  },
  {
   "cell_type": "code",
   "execution_count": null,
   "metadata": {
    "collapsed": true
   },
   "outputs": [],
   "source": []
  },
  {
   "cell_type": "code",
   "execution_count": null,
   "metadata": {
    "collapsed": true
   },
   "outputs": [],
   "source": [
    "# datapoints"
   ]
  },
  {
   "cell_type": "code",
   "execution_count": 19,
   "metadata": {
    "collapsed": true
   },
   "outputs": [],
   "source": [
    "dps = data[['Country (code)', 'Sex (code)', 'Year', *conc]].copy()\n"
   ]
  },
  {
   "cell_type": "code",
   "execution_count": null,
   "metadata": {
    "collapsed": true
   },
   "outputs": [],
   "source": []
  },
  {
   "cell_type": "code",
   "execution_count": 20,
   "metadata": {
    "collapsed": true
   },
   "outputs": [],
   "source": [
    "dps.columns = ['country', 'sex', 'year', *[to_concept_id(x) for x in conc]]"
   ]
  },
  {
   "cell_type": "code",
   "execution_count": 21,
   "metadata": {
    "collapsed": true
   },
   "outputs": [],
   "source": [
    "dps['country'] = dps['country'].map(to_concept_id)\n",
    "dps['sex'] = dps['sex'].map(to_concept_id)"
   ]
  },
  {
   "cell_type": "code",
   "execution_count": 22,
   "metadata": {
    "collapsed": true
   },
   "outputs": [],
   "source": [
    "dps = dps.set_index(['country', 'sex', 'year'])"
   ]
  },
  {
   "cell_type": "code",
   "execution_count": 25,
   "metadata": {
    "collapsed": true
   },
   "outputs": [],
   "source": [
    "for k, df in dps.items():\n",
    "    df_ = df.reset_index().dropna()\n",
    "    path = '../ddf--datapoints--{}--by--country--sex--year.csv'.format(k)\n",
    "    df_.to_csv(path, index=False)"
   ]
  },
  {
   "cell_type": "code",
   "execution_count": null,
   "metadata": {
    "collapsed": true
   },
   "outputs": [],
   "source": []
  },
  {
   "cell_type": "code",
   "execution_count": null,
   "metadata": {
    "collapsed": true
   },
   "outputs": [],
   "source": []
  },
  {
   "cell_type": "code",
   "execution_count": 24,
   "metadata": {
    "collapsed": false
   },
   "outputs": [
    {
     "data": {
      "text/html": [
       "<div>\n",
       "<table border=\"1\" class=\"dataframe\">\n",
       "  <thead>\n",
       "    <tr style=\"text-align: right;\">\n",
       "      <th></th>\n",
       "      <th>key</th>\n",
       "      <th>value</th>\n",
       "      <th>file</th>\n",
       "    </tr>\n",
       "  </thead>\n",
       "  <tbody>\n",
       "    <tr>\n",
       "      <th>0</th>\n",
       "      <td>concept</td>\n",
       "      <td>name</td>\n",
       "      <td>ddf--concepts.csv</td>\n",
       "    </tr>\n",
       "    <tr>\n",
       "      <th>1</th>\n",
       "      <td>concept</td>\n",
       "      <td>concept_type</td>\n",
       "      <td>ddf--concepts.csv</td>\n",
       "    </tr>\n",
       "    <tr>\n",
       "      <th>0</th>\n",
       "      <td>country,sex,year</td>\n",
       "      <td>contributing_family_workers_d</td>\n",
       "      <td>ddf--datapoints--contributing_family_workers_d...</td>\n",
       "    </tr>\n",
       "    <tr>\n",
       "      <th>0</th>\n",
       "      <td>country,sex,year</td>\n",
       "      <td>contributing_family_workers_d_000</td>\n",
       "      <td>ddf--datapoints--contributing_family_workers_d...</td>\n",
       "    </tr>\n",
       "    <tr>\n",
       "      <th>0</th>\n",
       "      <td>country,sex,year</td>\n",
       "      <td>employers_a</td>\n",
       "      <td>ddf--datapoints--employers_a--by--country--sex...</td>\n",
       "    </tr>\n",
       "    <tr>\n",
       "      <th>0</th>\n",
       "      <td>country,sex,year</td>\n",
       "      <td>employers_a_000</td>\n",
       "      <td>ddf--datapoints--employers_a_000--by--country-...</td>\n",
       "    </tr>\n",
       "    <tr>\n",
       "      <th>0</th>\n",
       "      <td>country,sex,year</td>\n",
       "      <td>members_of_producers_cooperatives_c</td>\n",
       "      <td>ddf--datapoints--members_of_producers_cooperat...</td>\n",
       "    </tr>\n",
       "    <tr>\n",
       "      <th>0</th>\n",
       "      <td>country,sex,year</td>\n",
       "      <td>members_of_producers_cooperatives_c_000</td>\n",
       "      <td>ddf--datapoints--members_of_producers_cooperat...</td>\n",
       "    </tr>\n",
       "    <tr>\n",
       "      <th>0</th>\n",
       "      <td>country,sex,year</td>\n",
       "      <td>not_classified</td>\n",
       "      <td>ddf--datapoints--not_classified--by--country--...</td>\n",
       "    </tr>\n",
       "    <tr>\n",
       "      <th>0</th>\n",
       "      <td>country,sex,year</td>\n",
       "      <td>not_classified_000</td>\n",
       "      <td>ddf--datapoints--not_classified_000--by--count...</td>\n",
       "    </tr>\n",
       "    <tr>\n",
       "      <th>0</th>\n",
       "      <td>country,sex,year</td>\n",
       "      <td>own_account_workers_b</td>\n",
       "      <td>ddf--datapoints--own_account_workers_b--by--co...</td>\n",
       "    </tr>\n",
       "    <tr>\n",
       "      <th>0</th>\n",
       "      <td>country,sex,year</td>\n",
       "      <td>own_account_workers_b_000</td>\n",
       "      <td>ddf--datapoints--own_account_workers_b_000--by...</td>\n",
       "    </tr>\n",
       "    <tr>\n",
       "      <th>0</th>\n",
       "      <td>country,sex,year</td>\n",
       "      <td>persons_in_vulnerable_employment_b_d_000</td>\n",
       "      <td>ddf--datapoints--persons_in_vulnerable_employm...</td>\n",
       "    </tr>\n",
       "    <tr>\n",
       "      <th>0</th>\n",
       "      <td>country,sex,year</td>\n",
       "      <td>share_of_vulnerable_employment_in_total_employ...</td>\n",
       "      <td>ddf--datapoints--share_of_vulnerable_employmen...</td>\n",
       "    </tr>\n",
       "    <tr>\n",
       "      <th>0</th>\n",
       "      <td>country,sex,year</td>\n",
       "      <td>total_self_employed_workers_a_b_c_d</td>\n",
       "      <td>ddf--datapoints--total_self_employed_workers_a...</td>\n",
       "    </tr>\n",
       "    <tr>\n",
       "      <th>0</th>\n",
       "      <td>country,sex,year</td>\n",
       "      <td>total_self_employed_workers_a_b_c_d_000</td>\n",
       "      <td>ddf--datapoints--total_self_employed_workers_a...</td>\n",
       "    </tr>\n",
       "    <tr>\n",
       "      <th>0</th>\n",
       "      <td>country,sex,year</td>\n",
       "      <td>wage_salaried_workers_employees</td>\n",
       "      <td>ddf--datapoints--wage_salaried_workers_employe...</td>\n",
       "    </tr>\n",
       "    <tr>\n",
       "      <th>0</th>\n",
       "      <td>country,sex,year</td>\n",
       "      <td>wage_salaried_workers_employees_000</td>\n",
       "      <td>ddf--datapoints--wage_salaried_workers_employe...</td>\n",
       "    </tr>\n",
       "    <tr>\n",
       "      <th>0</th>\n",
       "      <td>country</td>\n",
       "      <td>name</td>\n",
       "      <td>ddf--entities--country.csv</td>\n",
       "    </tr>\n",
       "    <tr>\n",
       "      <th>0</th>\n",
       "      <td>sex</td>\n",
       "      <td>name</td>\n",
       "      <td>ddf--entities--sex.csv</td>\n",
       "    </tr>\n",
       "  </tbody>\n",
       "</table>\n",
       "</div>"
      ],
      "text/plain": [
       "                key                                              value  \\\n",
       "0           concept                                               name   \n",
       "1           concept                                       concept_type   \n",
       "0  country,sex,year                      contributing_family_workers_d   \n",
       "0  country,sex,year                  contributing_family_workers_d_000   \n",
       "0  country,sex,year                                        employers_a   \n",
       "0  country,sex,year                                    employers_a_000   \n",
       "0  country,sex,year                members_of_producers_cooperatives_c   \n",
       "0  country,sex,year            members_of_producers_cooperatives_c_000   \n",
       "0  country,sex,year                                     not_classified   \n",
       "0  country,sex,year                                 not_classified_000   \n",
       "0  country,sex,year                              own_account_workers_b   \n",
       "0  country,sex,year                          own_account_workers_b_000   \n",
       "0  country,sex,year           persons_in_vulnerable_employment_b_d_000   \n",
       "0  country,sex,year  share_of_vulnerable_employment_in_total_employ...   \n",
       "0  country,sex,year                total_self_employed_workers_a_b_c_d   \n",
       "0  country,sex,year            total_self_employed_workers_a_b_c_d_000   \n",
       "0  country,sex,year                    wage_salaried_workers_employees   \n",
       "0  country,sex,year                wage_salaried_workers_employees_000   \n",
       "0           country                                               name   \n",
       "0               sex                                               name   \n",
       "\n",
       "                                                file  \n",
       "0                                  ddf--concepts.csv  \n",
       "1                                  ddf--concepts.csv  \n",
       "0  ddf--datapoints--contributing_family_workers_d...  \n",
       "0  ddf--datapoints--contributing_family_workers_d...  \n",
       "0  ddf--datapoints--employers_a--by--country--sex...  \n",
       "0  ddf--datapoints--employers_a_000--by--country-...  \n",
       "0  ddf--datapoints--members_of_producers_cooperat...  \n",
       "0  ddf--datapoints--members_of_producers_cooperat...  \n",
       "0  ddf--datapoints--not_classified--by--country--...  \n",
       "0  ddf--datapoints--not_classified_000--by--count...  \n",
       "0  ddf--datapoints--own_account_workers_b--by--co...  \n",
       "0  ddf--datapoints--own_account_workers_b_000--by...  \n",
       "0  ddf--datapoints--persons_in_vulnerable_employm...  \n",
       "0  ddf--datapoints--share_of_vulnerable_employmen...  \n",
       "0  ddf--datapoints--total_self_employed_workers_a...  \n",
       "0  ddf--datapoints--total_self_employed_workers_a...  \n",
       "0  ddf--datapoints--wage_salaried_workers_employe...  \n",
       "0  ddf--datapoints--wage_salaried_workers_employe...  \n",
       "0                         ddf--entities--country.csv  \n",
       "0                             ddf--entities--sex.csv  "
      ]
     },
     "execution_count": 24,
     "metadata": {},
     "output_type": "execute_result"
    }
   ],
   "source": [
    "create_index_file('../')"
   ]
  },
  {
   "cell_type": "code",
   "execution_count": null,
   "metadata": {
    "collapsed": true
   },
   "outputs": [],
   "source": []
  },
  {
   "cell_type": "code",
   "execution_count": null,
   "metadata": {
    "collapsed": true
   },
   "outputs": [],
   "source": []
  }
 ],
 "metadata": {
  "kernelspec": {
   "display_name": "Python 3",
   "language": "python",
   "name": "python3"
  },
  "language_info": {
   "codemirror_mode": {
    "name": "ipython",
    "version": 3
   },
   "file_extension": ".py",
   "mimetype": "text/x-python",
   "name": "python",
   "nbconvert_exporter": "python",
   "pygments_lexer": "ipython3",
   "version": "3.5.1"
  }
 },
 "nbformat": 4,
 "nbformat_minor": 0
}
